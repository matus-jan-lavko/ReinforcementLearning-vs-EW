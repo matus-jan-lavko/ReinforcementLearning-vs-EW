{
 "cells": [
  {
   "cell_type": "markdown",
   "metadata": {},
   "source": [
    "# Evaluation of RL Algos"
   ]
  },
  {
   "cell_type": "code",
   "execution_count": 1,
   "metadata": {},
   "outputs": [],
   "source": [
    "import os\n",
    "import pandas as pd\n",
    "import numpy as np\n",
    "\n",
    "from utils import backtestWs, weightsEw\n",
    "from utils import test_static_agent\n",
    "from utils import create_weights_gif\n",
    "\n",
    "from metrics import summary_stats\n",
    "from satis_models import sharpe_ratio\n",
    "from pandas.tseries.offsets import BDay\n",
    "\n",
    "from agents import Static\n",
    "from environment import StaticEnvironment\n",
    "from mom_models import sample_cov, mean_return_historic, ema_return_historic, elton_gruber_cov"
   ]
  },
  {
   "cell_type": "markdown",
   "metadata": {},
   "source": [
    "## Notebook Parameters "
   ]
  },
  {
   "cell_type": "code",
   "execution_count": 2,
   "metadata": {},
   "outputs": [],
   "source": [
    "#paths\n",
    "RESULTS_PATH = os.path.join('C:\\\\', 'Users','matus','gdrive','RL_RESULTS')\n",
    "DATA_PATH = os.path.join('C:\\\\', 'Users','matus','gdrive','datasets', 'Research')\n",
    "\n",
    "\n",
    "#model parameters\n",
    "MODELS = ['A2C', 'DDPG', 'PPO','SAC','TD3']\n",
    "\n",
    "RISK_FREE = '00_db_10YTBILL__PX_LAST.csv'\n",
    "FACTORS = '00_db_FACTORS__PX_LAST.xlsx'\n",
    "\n",
    "REBALANCING_WINDOW = {'Weekly': 5,\n",
    "                      'Monthly': 21,\n",
    "                      'Quarterly': 63,\n",
    "                      'Semi-annually': 128,\n",
    "                     }\n",
    "#                       'Annually': 252}\n",
    "DATASET = '00_db_BE500_MOMSIZE100'"
   ]
  },
  {
   "cell_type": "markdown",
   "metadata": {},
   "source": [
    "# Load results and Data"
   ]
  },
  {
   "cell_type": "code",
   "execution_count": 3,
   "metadata": {},
   "outputs": [],
   "source": [
    "weights_RL = {mod : pd.read_csv(os.path.join(RESULTS_PATH,DATASET,mod,str.lower(mod) + '_actions.csv'),index_col=0,parse_dates=True) for mod in MODELS}\n",
    "r_full = pd.read_csv(os.path.join(DATA_PATH, DATASET + '__PX_LAST.csv'),index_col=0,parse_dates=True)\n",
    "test_index = weights_RL['A2C'].index\n",
    "\n",
    "r = r_full.loc[test_index, weights_RL['A2C'].columns]\n",
    "rf = pd.read_csv(os.path.join(DATA_PATH, RISK_FREE), index_col = 0, parse_dates = True).loc[test_index]\n",
    "rf /= 100 #is in percentages\n",
    "rf = rf.iloc[:,0] #take the 10Y US T-Bill\n",
    "\n",
    "db_factors = pd.read_excel(os.path.join(DATA_PATH, FACTORS), index_col = 0, parse_dates = True)"
   ]
  },
  {
   "cell_type": "markdown",
   "metadata": {},
   "source": [
    "# Trade Test"
   ]
  },
  {
   "cell_type": "markdown",
   "metadata": {},
   "source": [
    "## Reinforcement Learning Algorithms "
   ]
  },
  {
   "cell_type": "code",
   "execution_count": 4,
   "metadata": {},
   "outputs": [],
   "source": [
    "backtests = dict()\n",
    "backtests_cuml = dict()\n",
    "for window in REBALANCING_WINDOW:\n",
    "    backtests[window] = {mod : backtestWs(r,weights_RL[mod], estimation_window = 0, \n",
    "                                          rebalancing_window = REBALANCING_WINDOW[window]) for mod in MODELS}\n",
    "    backtests[window]['EW'] = backtestWs(r,weightsEw,0,REBALANCING_WINDOW[window])\n",
    "    \n",
    "    backtests_cuml[window] = (1+pd.DataFrame(backtests[window])).cumprod()\n",
    "    backtests_cuml[window].iloc[0,:] = 1"
   ]
  },
  {
   "cell_type": "markdown",
   "metadata": {},
   "source": [
    "## Static Quadratic Rebalance "
   ]
  },
  {
   "cell_type": "code",
   "execution_count": 5,
   "metadata": {},
   "outputs": [],
   "source": [
    "env_kwargs = {\n",
    "    'equity': 1_000_000,\n",
    "    'transaction_cost': 0.001,\n",
    "    'mean_model': mean_return_historic,\n",
    "    'cov_model': sample_cov,\n",
    "    'satisfaction_model': sharpe_ratio,\n",
    "}"
   ]
  },
  {
   "cell_type": "code",
   "execution_count": 6,
   "metadata": {},
   "outputs": [],
   "source": [
    "fitting_period = 2*252\n",
    "start_date = r.index[0]\n",
    "end_date = r.index[-1]\n",
    "\n",
    "start_fit = (pd.to_datetime(start_date) - BDay(fitting_period)).strftime('%Y-%m-%d')\n",
    "\n",
    "env = StaticEnvironment(r_full.loc[start_fit : end_date, weights_RL['A2C'].columns] ,**env_kwargs)\n",
    "agent = Static(mean_return_historic, sample_cov, len(r.columns), allow_short=False)\n",
    "\n",
    "agent.set_factor_bound(0)\n",
    "agent.set_weight_bound((0.01,1))"
   ]
  },
  {
   "cell_type": "code",
   "execution_count": 7,
   "metadata": {},
   "outputs": [
    {
     "name": "stdout",
     "output_type": "stream",
     "text": [
      "Tested minimum_variance in 2.5690 seconds\n",
      "Tested max_sharpe in 442.6072 seconds\n",
      "Tested sr_factor in 831.6468 seconds\n",
      "Tested equal_risk in 59.8491 seconds\n",
      "Tested minimum_variance in 0.6220 seconds\n",
      "Tested max_sharpe in 104.4617 seconds\n",
      "Tested sr_factor in 198.2623 seconds\n",
      "Tested equal_risk in 13.7973 seconds\n",
      "Tested minimum_variance in 0.2220 seconds\n",
      "Tested max_sharpe in 37.6155 seconds\n",
      "Tested sr_factor in 70.3496 seconds\n",
      "Tested equal_risk in 4.6961 seconds\n",
      "Tested minimum_variance in 0.1406 seconds\n",
      "Tested max_sharpe in 21.6277 seconds\n",
      "Tested sr_factor in 39.7067 seconds\n",
      "Tested equal_risk in 2.4554 seconds\n"
     ]
    }
   ],
   "source": [
    "for window in REBALANCING_WINDOW:\n",
    "    #minimum-variance portfolio\n",
    "    try: \n",
    "        mv = test_static_agent(env, agent, 'minimum_variance', fitting_period, REBALANCING_WINDOW[window])\n",
    "        backtests[window]['MV'] =  mv[:len(r)]\n",
    "        del mv\n",
    "    except:\n",
    "        print('QSQP Solver failed, or no feasible solution can be reached.')\n",
    "    \n",
    "    #maximum-sharpe portfolio\n",
    "    try:\n",
    "        ms = test_static_agent(env, agent, 'max_sharpe', fitting_period, REBALANCING_WINDOW[window])\n",
    "        backtests[window]['MSR'] =  ms[:len(r)]\n",
    "        del ms\n",
    "        \n",
    "    except:\n",
    "        print('QSQP Solver failed, or no feasible solution can be reached.')\n",
    "    \n",
    "    #factor-constrained portfolio 0.2\n",
    "    try:\n",
    "        fs = test_static_agent(env, agent, 'sr_factor', fitting_period, REBALANCING_WINDOW[window], factors = db_factors, **env_kwargs)\n",
    "        backtests[window]['FC'] =  fs[:len(r)]\n",
    "        del fs\n",
    "    except:\n",
    "        print('QSQP Solver failed, or no feasible solution can be reached.')\n",
    "        \n",
    "    try:\n",
    "        er = test_static_agent(env, agent, 'equal_risk', fitting_period, REBALANCING_WINDOW[window])\n",
    "        backtests[window]['ER'] = er[:len(r)]\n",
    "        del er\n",
    "    except:\n",
    "        print('QSQP Solver failed, or no feasible solution can be reached.')\n",
    "    "
   ]
  },
  {
   "cell_type": "markdown",
   "metadata": {},
   "source": [
    "# Save results "
   ]
  },
  {
   "cell_type": "code",
   "execution_count": 8,
   "metadata": {},
   "outputs": [],
   "source": [
    "for key in backtests.keys():\n",
    "    df = pd.DataFrame(backtests[str(key)])\n",
    "    df.to_csv(os.path.join(RESULTS_PATH, DATASET, str(key) + '.csv'))"
   ]
  },
  {
   "cell_type": "markdown",
   "metadata": {},
   "source": [
    "# Create Weights GIF"
   ]
  },
  {
   "cell_type": "code",
   "execution_count": 9,
   "metadata": {},
   "outputs": [
    {
     "name": "stdout",
     "output_type": "stream",
     "text": [
      "Creating GIF for A2C\n",
      "27it [03:27,  7.69s/it]                                                                                                \n",
      "Charts saved \n",
      "\n",
      "Creating gif\n",
      "\n",
      "Gif produced in 3.6165 minutes\n",
      "DONE\n",
      "Creating GIF for DDPG\n",
      "27it [03:33,  7.91s/it]                                                                                                \n",
      "Charts saved \n",
      "\n",
      "Creating gif\n",
      "\n",
      "Gif produced in 3.7134 minutes\n",
      "DONE\n",
      "Creating GIF for PPO\n",
      "27it [03:24,  7.57s/it]                                                                                                \n",
      "Charts saved \n",
      "\n",
      "Creating gif\n",
      "\n",
      "Gif produced in 3.5860 minutes\n",
      "DONE\n",
      "Creating GIF for SAC\n",
      "27it [03:31,  7.82s/it]                                                                                                \n",
      "Charts saved \n",
      "\n",
      "Creating gif\n",
      "\n",
      "Gif produced in 3.6965 minutes\n",
      "DONE\n",
      "Creating GIF for TD3\n",
      "27it [03:40,  8.16s/it]                                                                                                \n",
      "Charts saved \n",
      "\n",
      "Creating gif\n",
      "\n",
      "Gif produced in 3.8308 minutes\n",
      "DONE\n"
     ]
    }
   ],
   "source": [
    "for mod in MODELS:\n",
    "    print(f'Creating GIF for {mod}')\n",
    "    \n",
    "    if not os.path.exists(os.path.join(RESULTS_PATH, DATASET, mod, 'gif')):\n",
    "        os.makedirs(os.path.join(RESULTS_PATH, DATASET, mod, 'gif'))\n",
    "        \n",
    "    create_weights_gif(weights_RL[mod], mod, os.path.join(RESULTS_PATH, DATASET, mod))"
   ]
  },
  {
   "cell_type": "code",
   "execution_count": null,
   "metadata": {},
   "outputs": [],
   "source": []
  }
 ],
 "metadata": {
  "kernelspec": {
   "display_name": "Python [conda env:dev01] *",
   "language": "python",
   "name": "conda-env-dev01-py"
  },
  "language_info": {
   "codemirror_mode": {
    "name": "ipython",
    "version": 3
   },
   "file_extension": ".py",
   "mimetype": "text/x-python",
   "name": "python",
   "nbconvert_exporter": "python",
   "pygments_lexer": "ipython3",
   "version": "3.7.9"
  }
 },
 "nbformat": 4,
 "nbformat_minor": 4
}
