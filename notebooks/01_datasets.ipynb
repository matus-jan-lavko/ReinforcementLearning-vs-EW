{
 "cells": [
  {
   "cell_type": "markdown",
   "metadata": {},
   "source": [
    "# Constructing Datasets from a Factor Model"
   ]
  },
  {
   "cell_type": "code",
   "execution_count": 1,
   "metadata": {},
   "outputs": [],
   "source": [
    "import os\n",
    "import numpy as np\n",
    "import pandas as pd\n",
    "import matplotlib.pyplot as plt\n",
    "import seaborn as sns\n",
    "from satis_models import sharpe_ratio\n",
    "from factor_models import linear_factor_mod\n",
    "from finrl.config import config\n",
    "from pandas.tseries.offsets import BDay\n",
    "import scipy\n",
    "%load_ext autoreload"
   ]
  },
  {
   "cell_type": "code",
   "execution_count": 2,
   "metadata": {},
   "outputs": [],
   "source": [
    "DB_PATH = os.path.join('C:\\\\', 'Users','matus','gdrive','datasets', 'Research')\n",
    "ESTIMATION_WINDOW = 36 #3 years estimation period\n",
    "\n",
    "DB_NAME = '00_db_SPX'\n",
    "DB_FACTORS = '00_db_FACTORS__PX_LAST.xlsx'\n",
    "\n",
    "DB_FNAMES = ['GROWTH50', 'MOM50', 'SIZE50']"
   ]
  },
  {
   "cell_type": "code",
   "execution_count": 3,
   "metadata": {},
   "outputs": [],
   "source": [
    "db_full = pd.read_csv(os.path.join(DB_PATH, DB_NAME + '__PX_LAST.csv'), index_col = 0, parse_dates = True)\n",
    "db_m = db_full.resample('M').ffill()\n",
    "db_lrets = np.log1p(db_m.pct_change())\n",
    "db_lrets = db_lrets.iloc[-ESTIMATION_WINDOW:]\n",
    "db_lrets = db_lrets.loc[:,~db_lrets.iloc[0].isna()]"
   ]
  },
  {
   "cell_type": "code",
   "execution_count": 4,
   "metadata": {},
   "outputs": [],
   "source": [
    "db_factors = pd.read_excel(os.path.join(DB_PATH, DB_FACTORS), index_col = 0, parse_dates = True)\n",
    "db_factors_m = db_factors.dropna().resample('M').ffill()\n",
    "db_factors_m = np.log1p(db_factors_m.pct_change())\n",
    "db_factors_m = db_factors_m.iloc[-ESTIMATION_WINDOW:]"
   ]
  },
  {
   "cell_type": "markdown",
   "metadata": {},
   "source": [
    "# Making Factor Datasets"
   ]
  },
  {
   "cell_type": "code",
   "execution_count": 5,
   "metadata": {},
   "outputs": [],
   "source": [
    "alpha, beta, eps = linear_factor_mod(db_lrets*100, db_factors_m*100, regularize = 'net', return_alpha=True)"
   ]
  },
  {
   "cell_type": "code",
   "execution_count": 6,
   "metadata": {},
   "outputs": [],
   "source": [
    "loadings = pd.DataFrame(beta,columns = db_factors.columns, index = db_lrets.columns)"
   ]
  },
  {
   "cell_type": "code",
   "execution_count": 7,
   "metadata": {},
   "outputs": [
    {
     "data": {
      "text/html": [
       "<div>\n",
       "<style scoped>\n",
       "    .dataframe tbody tr th:only-of-type {\n",
       "        vertical-align: middle;\n",
       "    }\n",
       "\n",
       "    .dataframe tbody tr th {\n",
       "        vertical-align: top;\n",
       "    }\n",
       "\n",
       "    .dataframe thead th {\n",
       "        text-align: right;\n",
       "    }\n",
       "</style>\n",
       "<table border=\"1\" class=\"dataframe\">\n",
       "  <thead>\n",
       "    <tr style=\"text-align: right;\">\n",
       "      <th></th>\n",
       "      <th>PVALUEUS Index</th>\n",
       "      <th>PMOMENUS Index</th>\n",
       "      <th>PSIZEUS Index</th>\n",
       "      <th>SPX Index</th>\n",
       "    </tr>\n",
       "  </thead>\n",
       "  <tbody>\n",
       "    <tr>\n",
       "      <th>A UN Equity</th>\n",
       "      <td>1.180663</td>\n",
       "      <td>-0.210399</td>\n",
       "      <td>1.341714</td>\n",
       "      <td>0.876855</td>\n",
       "    </tr>\n",
       "    <tr>\n",
       "      <th>AAL UW Equity</th>\n",
       "      <td>2.324936</td>\n",
       "      <td>-0.662918</td>\n",
       "      <td>-0.238527</td>\n",
       "      <td>1.726496</td>\n",
       "    </tr>\n",
       "    <tr>\n",
       "      <th>AAP UN Equity</th>\n",
       "      <td>1.267061</td>\n",
       "      <td>-0.220220</td>\n",
       "      <td>-4.676084</td>\n",
       "      <td>0.924405</td>\n",
       "    </tr>\n",
       "    <tr>\n",
       "      <th>AAPL UW Equity</th>\n",
       "      <td>-0.435322</td>\n",
       "      <td>0.623500</td>\n",
       "      <td>1.725781</td>\n",
       "      <td>1.453615</td>\n",
       "    </tr>\n",
       "    <tr>\n",
       "      <th>ABBV UN Equity</th>\n",
       "      <td>-1.108157</td>\n",
       "      <td>-0.993623</td>\n",
       "      <td>-0.891483</td>\n",
       "      <td>0.652763</td>\n",
       "    </tr>\n",
       "    <tr>\n",
       "      <th>...</th>\n",
       "      <td>...</td>\n",
       "      <td>...</td>\n",
       "      <td>...</td>\n",
       "      <td>...</td>\n",
       "    </tr>\n",
       "    <tr>\n",
       "      <th>YUM UN Equity</th>\n",
       "      <td>-0.939574</td>\n",
       "      <td>0.246497</td>\n",
       "      <td>-1.422366</td>\n",
       "      <td>1.136680</td>\n",
       "    </tr>\n",
       "    <tr>\n",
       "      <th>ZBH UN Equity</th>\n",
       "      <td>-0.417244</td>\n",
       "      <td>1.170789</td>\n",
       "      <td>-0.923192</td>\n",
       "      <td>1.535019</td>\n",
       "    </tr>\n",
       "    <tr>\n",
       "      <th>ZBRA UW Equity</th>\n",
       "      <td>-0.129286</td>\n",
       "      <td>-0.034303</td>\n",
       "      <td>-3.916881</td>\n",
       "      <td>1.397786</td>\n",
       "    </tr>\n",
       "    <tr>\n",
       "      <th>ZION UW Equity</th>\n",
       "      <td>2.887831</td>\n",
       "      <td>-0.874634</td>\n",
       "      <td>-5.755810</td>\n",
       "      <td>1.044340</td>\n",
       "    </tr>\n",
       "    <tr>\n",
       "      <th>ZTS UN Equity</th>\n",
       "      <td>-1.373443</td>\n",
       "      <td>0.931257</td>\n",
       "      <td>-0.201556</td>\n",
       "      <td>0.813959</td>\n",
       "    </tr>\n",
       "  </tbody>\n",
       "</table>\n",
       "<p>487 rows × 4 columns</p>\n",
       "</div>"
      ],
      "text/plain": [
       "                PVALUEUS Index  PMOMENUS Index  PSIZEUS Index  SPX Index\n",
       "A UN Equity           1.180663       -0.210399       1.341714   0.876855\n",
       "AAL UW Equity         2.324936       -0.662918      -0.238527   1.726496\n",
       "AAP UN Equity         1.267061       -0.220220      -4.676084   0.924405\n",
       "AAPL UW Equity       -0.435322        0.623500       1.725781   1.453615\n",
       "ABBV UN Equity       -1.108157       -0.993623      -0.891483   0.652763\n",
       "...                        ...             ...            ...        ...\n",
       "YUM UN Equity        -0.939574        0.246497      -1.422366   1.136680\n",
       "ZBH UN Equity        -0.417244        1.170789      -0.923192   1.535019\n",
       "ZBRA UW Equity       -0.129286       -0.034303      -3.916881   1.397786\n",
       "ZION UW Equity        2.887831       -0.874634      -5.755810   1.044340\n",
       "ZTS UN Equity        -1.373443        0.931257      -0.201556   0.813959\n",
       "\n",
       "[487 rows x 4 columns]"
      ]
     },
     "execution_count": 7,
     "metadata": {},
     "output_type": "execute_result"
    }
   ],
   "source": [
    "loadings"
   ]
  },
  {
   "cell_type": "code",
   "execution_count": 98,
   "metadata": {},
   "outputs": [],
   "source": [
    "growth_50 = loadings.sort_values('PVALUEUS Index').index[:50]\n",
    "mom_50 = loadings.sort_values('PMOMENUS Index').index[-50:]\n",
    "size_50 = loadings.sort_values('PSIZEUS Index').index[:50]"
   ]
  },
  {
   "cell_type": "code",
   "execution_count": 99,
   "metadata": {},
   "outputs": [],
   "source": [
    "o = pd.read_csv(os.path.join(DB_PATH, DB_NAME + '__PX_OPEN.csv'), index_col = 0)\n",
    "h = pd.read_csv(os.path.join(DB_PATH, DB_NAME + '__PX_HIGH.csv'), index_col = 0)\n",
    "l = pd.read_csv(os.path.join(DB_PATH, DB_NAME + '__PX_LOW.csv'), index_col = 0)\n",
    "c = pd.read_csv(os.path.join(DB_PATH, DB_NAME + '__PX_LAST.csv'), index_col = 0)\n",
    "v = pd.read_csv(os.path.join(DB_PATH, DB_NAME + '__PX_VOLUME.csv'), index_col = 0)"
   ]
  },
  {
   "cell_type": "code",
   "execution_count": 86,
   "metadata": {},
   "outputs": [],
   "source": [
    "def make_dataset(o ,h ,l ,c ,v ,fltr, name):\n",
    "    o = o.reindex(fltr, axis = 1).to_csv(os.path.join(DB_PATH, DB_NAME + '_' + name + '__PX_OPEN.csv'))\n",
    "    h = h.reindex(fltr, axis = 1).to_csv(os.path.join(DB_PATH, DB_NAME + '_' + name + '__PX_HIGH.csv'))\n",
    "    l = l.reindex(fltr, axis = 1).to_csv(os.path.join(DB_PATH, DB_NAME + '_' + name + '__PX_LOW.csv'))\n",
    "    c = c.reindex(fltr, axis = 1).to_csv(os.path.join(DB_PATH, DB_NAME + '_' + name + '__PX_LAST.csv'))\n",
    "    v = v.reindex(fltr, axis = 1).to_csv(os.path.join(DB_PATH, DB_NAME + '_' + name + '__PX_VOLUME.csv'))\n",
    "    print('Dataset ' + name + ' saved in ' + DB_PATH)"
   ]
  },
  {
   "cell_type": "code",
   "execution_count": 87,
   "metadata": {},
   "outputs": [
    {
     "name": "stdout",
     "output_type": "stream",
     "text": [
      "Dataset GROWTH50 saved in C:\\Users\\matus\\gdrive\\datasets\\Research\n"
     ]
    }
   ],
   "source": [
    "make_dataset(o, h, l, c, v, growth_50, 'GROWTH50')"
   ]
  },
  {
   "cell_type": "code",
   "execution_count": 88,
   "metadata": {},
   "outputs": [
    {
     "name": "stdout",
     "output_type": "stream",
     "text": [
      "Dataset MOM50 saved in C:\\Users\\matus\\gdrive\\datasets\\Research\n"
     ]
    }
   ],
   "source": [
    "make_dataset(o, h, l, c, v, mom_50, 'MOM50')"
   ]
  },
  {
   "cell_type": "code",
   "execution_count": 89,
   "metadata": {},
   "outputs": [
    {
     "name": "stdout",
     "output_type": "stream",
     "text": [
      "Dataset SIZE50 saved in C:\\Users\\matus\\gdrive\\datasets\\Research\n"
     ]
    }
   ],
   "source": [
    "make_dataset(o, h, l, c, v, size_50, 'SIZE50')"
   ]
  },
  {
   "cell_type": "markdown",
   "metadata": {},
   "source": [
    "# Combined Factors Datasets"
   ]
  },
  {
   "cell_type": "code",
   "execution_count": 100,
   "metadata": {},
   "outputs": [],
   "source": [
    "def make_two_factor_dataset(db_name_1, db_name_2, db_merged_name : str) :\n",
    "    #read first factor dataset\n",
    "    o1 = pd.read_csv(os.path.join(DB_PATH, DB_NAME + '_' + db_name_1 + '__PX_OPEN.csv'), index_col = 0)\n",
    "    h1 = pd.read_csv(os.path.join(DB_PATH, DB_NAME + '_' + db_name_1 + '__PX_HIGH.csv'), index_col = 0)\n",
    "    l1 = pd.read_csv(os.path.join(DB_PATH, DB_NAME + '_' + db_name_1 + '__PX_LOW.csv'), index_col = 0)\n",
    "    c1 = pd.read_csv(os.path.join(DB_PATH, DB_NAME + '_' + db_name_1 + '__PX_LAST.csv'), index_col = 0)\n",
    "    v1 = pd.read_csv(os.path.join(DB_PATH, DB_NAME + '_' + db_name_1 + '__PX_VOLUME.csv'), index_col = 0)\n",
    "    \n",
    "#     print(o1.columns)\n",
    "    #read second factor dataset\n",
    "    o2 = pd.read_csv(os.path.join(DB_PATH, DB_NAME + '_' + db_name_2 + '__PX_OPEN.csv'), index_col = 0)\n",
    "    h2 = pd.read_csv(os.path.join(DB_PATH, DB_NAME + '_' + db_name_2 + '__PX_HIGH.csv'), index_col = 0)\n",
    "    l2 = pd.read_csv(os.path.join(DB_PATH, DB_NAME + '_' + db_name_2 + '__PX_LOW.csv'), index_col = 0)\n",
    "    c2 = pd.read_csv(os.path.join(DB_PATH, DB_NAME + '_' + db_name_2 + '__PX_LAST.csv'), index_col = 0)\n",
    "    v2 = pd.read_csv(os.path.join(DB_PATH, DB_NAME + '_' + db_name_2 + '__PX_VOLUME.csv'), index_col = 0)\n",
    "#     print(o2.columns)\n",
    "    o_m = pd.concat([o1,o2], axis = 1)\n",
    "    o_m = o_m.T.drop_duplicates().T\n",
    "    \n",
    "    h_m = pd.concat([h1,h2], axis = 1)\n",
    "    h_m = h_m.T.drop_duplicates().T\n",
    "    \n",
    "    l_m = pd.concat([l1,l2], axis = 1)\n",
    "    l_m = l_m.T.drop_duplicates().T\n",
    "    \n",
    "    c_m = pd.concat([c1,c2], axis = 1)\n",
    "    c_m = c_m.T.drop_duplicates().T\n",
    "    \n",
    "    v_m = pd.concat([v1,v2], axis = 1)\n",
    "    v_m = v_m.T.drop_duplicates().T\n",
    "    \n",
    "    print(f'There are {100 - len(o_m.columns.unique())} duplicate factor stocks. in {db_merged_name}')\n",
    "    \n",
    "    #save\n",
    "    o_m.to_csv(os.path.join(DB_PATH, DB_NAME + '_' + db_merged_name + '__PX_OPEN.csv'))\n",
    "    h_m.to_csv(os.path.join(DB_PATH, DB_NAME + '_' + db_merged_name + '__PX_HIGH.csv'))\n",
    "    l_m.to_csv(os.path.join(DB_PATH, DB_NAME + '_' + db_merged_name + '__PX_LOW.csv'))\n",
    "    c_m.to_csv(os.path.join(DB_PATH, DB_NAME + '_' + db_merged_name + '__PX_LAST.csv'))\n",
    "    v_m.to_csv(os.path.join(DB_PATH, DB_NAME + '_' + db_merged_name + '__PX_VOLUME.csv'))\n",
    "    \n",
    "    print('Dataset ' + db_merged_name + ' saved in ' + DB_PATH)\n",
    "    \n",
    "    "
   ]
  },
  {
   "cell_type": "code",
   "execution_count": 101,
   "metadata": {},
   "outputs": [
    {
     "name": "stdout",
     "output_type": "stream",
     "text": [
      "There are 6 duplicate factor stocks. in GRSIZE100\n",
      "Dataset GRSIZE100 saved in C:\\Users\\matus\\gdrive\\datasets\\Research\n"
     ]
    }
   ],
   "source": [
    "make_two_factor_dataset(DB_FNAMES[0], DB_FNAMES[2], 'GRSIZE100')"
   ]
  },
  {
   "cell_type": "code",
   "execution_count": 102,
   "metadata": {},
   "outputs": [
    {
     "name": "stdout",
     "output_type": "stream",
     "text": [
      "There are 3 duplicate factor stocks. in MOMSIZE100\n",
      "Dataset MOMSIZE100 saved in C:\\Users\\matus\\gdrive\\datasets\\Research\n"
     ]
    }
   ],
   "source": [
    "make_two_factor_dataset(DB_FNAMES[1], DB_FNAMES[2], 'MOMSIZE100')"
   ]
  },
  {
   "cell_type": "code",
   "execution_count": null,
   "metadata": {},
   "outputs": [],
   "source": []
  }
 ],
 "metadata": {
  "kernelspec": {
   "display_name": "Python 3",
   "language": "python",
   "name": "python3"
  },
  "language_info": {
   "codemirror_mode": {
    "name": "ipython",
    "version": 3
   },
   "file_extension": ".py",
   "mimetype": "text/x-python",
   "name": "python",
   "nbconvert_exporter": "python",
   "pygments_lexer": "ipython3",
   "version": "3.7.9"
  }
 },
 "nbformat": 4,
 "nbformat_minor": 4
}
